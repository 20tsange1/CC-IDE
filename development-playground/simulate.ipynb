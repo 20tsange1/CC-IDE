{
 "cells": [
  {
   "cell_type": "markdown",
   "metadata": {},
   "source": [
    "# Event Simulation"
   ]
  },
  {
   "cell_type": "markdown",
   "metadata": {},
   "source": [
    "So first, let us consider clauses + conditions.\n",
    "\n",
    " A clause may have multiple conditions. \n",
    " Conditions may be repeated\n",
    "\n",
    " Conditions can be triggered by events\n",
    "\n",
    "**Our definitions**\n",
    "\n",
    "-  Define a clause - We are in violation\n",
    "\n",
    "-  Define your conditions - IF (we have done x AND we have done y) OR  we have done z\n",
    "\n",
    "-  Define your events - We have done x, we have done y, we have done z\n",
    "\n",
    " This is events in its primitive form, eventually we will have to figure out how to incorporate dynamic events, with different values.\n",
    " Currently just a binary flag.\n",
    "\n",
    " Something to think about is the precedence of AND vs OR\n",
    "\n",
    "\n",
    " Clause is a set of conditions"
   ]
  },
  {
   "cell_type": "code",
   "execution_count": 48,
   "metadata": {},
   "outputs": [],
   "source": [
    "# Using objects to represent\n",
    "class Condition:\n",
    "    def __init__(self):\n",
    "        self.flag = False\n",
    "\n",
    "x = Condition()\n",
    "y = Condition()\n",
    "z = Condition()"
   ]
  },
  {
   "cell_type": "markdown",
   "metadata": {},
   "source": [
    "\n",
    "Maybe for AND, we can use a flag too, 0 == AND, 1 == OR, 2 == NOT\n",
    "2D array\n",
    "\n",
    "Then process recursively\n",
    "CLAUSE =  [ [CONDITIONS & SUBCONDITIONS] , FLAG]\n"
   ]
  },
  {
   "cell_type": "code",
   "execution_count": 49,
   "metadata": {},
   "outputs": [],
   "source": [
    "clause1 = [[x, y, z], 1] # x OR y OR z\n",
    "clause2 = [[x, y], 0] # x AND y\n",
    "clause3 = [[x, [[y, z], 0]], 1] # x OR (y AND z)\n",
    "clause4 = [[[x, y, z], 1], 2] # NOT (x OR y OR z)\n",
    "clause5 = [[[[x, y], 0], [[z], 2]], 1] # (x AND y) or (NOT z)"
   ]
  },
  {
   "cell_type": "code",
   "execution_count": 50,
   "metadata": {},
   "outputs": [],
   "source": [
    "# What the evaluate function basically does is check for the truth value of the statement.\n",
    "# Pretty much just logic gates. Stuff like XOR is fancy and helps, but can be implemented with \n",
    "# a bit of logic. (A AND NOT B or B AND NOT A)\n",
    "def evaluate(arr):\n",
    "    check = None\n",
    "\n",
    "    # Singular variable\n",
    "    if len(arr) == 1:\n",
    "        return arr[0].flag\n",
    "\n",
    "    conditions = arr[0]\n",
    "    flag = arr[1]\n",
    "\n",
    "    if flag == 0:\n",
    "        check = True\n",
    "        for val in conditions:\n",
    "            if not isinstance(val, Condition):\n",
    "                check = check and evaluate(val)\n",
    "            else:\n",
    "                check = check and val.flag\n",
    "\n",
    "    elif flag == 1:\n",
    "        check = False\n",
    "        for val in conditions:\n",
    "            if not isinstance(val, Condition):\n",
    "                check = check or evaluate(val)\n",
    "            else:\n",
    "                check = check or val.flag\n",
    "    \n",
    "    elif flag == 2:\n",
    "        check = not evaluate(conditions)\n",
    "\n",
    "    return check"
   ]
  },
  {
   "cell_type": "code",
   "execution_count": 51,
   "metadata": {},
   "outputs": [],
   "source": [
    "assert evaluate(clause1) == False\n",
    "assert evaluate(clause2) == False\n",
    "assert evaluate(clause3) == False\n",
    "assert evaluate(clause4) == True\n",
    "assert evaluate(clause5) == True\n",
    "\n",
    "x.flag = True\n",
    "\n",
    "assert evaluate(clause1) == True\n",
    "assert evaluate(clause2) == False\n",
    "assert evaluate(clause3) == True\n",
    "assert evaluate(clause4) == False\n",
    "assert evaluate(clause5) == True\n",
    "\n",
    "y.flag = True\n",
    "\n",
    "assert evaluate(clause1) == True\n",
    "assert evaluate(clause2) == True\n",
    "assert evaluate(clause3) == True\n",
    "assert evaluate(clause4) == False\n",
    "assert evaluate(clause5) == True\n",
    "\n",
    "z.flag = True\n",
    "\n",
    "assert evaluate(clause1) == True\n",
    "assert evaluate(clause2) == True\n",
    "assert evaluate(clause3) == True\n",
    "assert evaluate(clause4) == False\n",
    "assert evaluate(clause5) == True"
   ]
  },
  {
   "cell_type": "markdown",
   "metadata": {},
   "source": [
    "## Could we do it this way?\n",
    "\n",
    "Currently, we are considering events and conditions to be synonymous, and an event basically triggers the condition to be true.\n",
    "\n",
    "And since the conditions are objects, we can trigger these conditions at any time and in any order.\n",
    "\n",
    "What then needs to be done is an evaluation of the clause in it's entirety.\n",
    "\n",
    "In it's most primitive form, this works.\n",
    "\n",
    "However, what if we need to add in dynamic events, the ability to evaluate events to a condition (whether an event triggers that condition)? \n",
    "\n",
    "Or consider efficiency? Do we want to re-evaluate the statement each time after an event? \n",
    "\n",
    "- if n = number of events, m = number of clauses, z = max number of conditions, we will have o(n * m * z)\n",
    "- But actually if we limit the number of conditions, it actually becomes o(n * m). Now can we ever reach o(n)?"
   ]
  },
  {
   "cell_type": "markdown",
   "metadata": {},
   "source": []
  },
  {
   "cell_type": "markdown",
   "metadata": {},
   "source": [
    "We have to add sequencing + time, states\n",
    "\n",
    "states = constant amount of time,\n",
    "\n",
    "THEN operator\n",
    "\n",
    "User writes, and then we break it down into conditions, change it into code - behind the scenes.\n",
    "\n",
    "States that can be tested.\n",
    "\n",
    "If a occurs, then certain state = True, if state True and event B has occured then action.\n",
    "\n",
    "Hidden states, lawyer set states and our coding states.\n",
    "\n",
    "Definitions + maximal use. Conditions are simple. - What will we allow in definition."
   ]
  },
  {
   "cell_type": "markdown",
   "metadata": {},
   "source": []
  },
  {
   "cell_type": "markdown",
   "metadata": {},
   "source": [
    "\n",
    "print(evaluate(clause4))\n",
    "\n",
    "Add in testing mechanism\n",
    "\n",
    "What if we use a count, miscount mismatch won't work"
   ]
  }
 ],
 "metadata": {
  "kernelspec": {
   "display_name": "Python 3",
   "language": "python",
   "name": "python3"
  },
  "language_info": {
   "codemirror_mode": {
    "name": "ipython",
    "version": 3
   },
   "file_extension": ".py",
   "mimetype": "text/x-python",
   "name": "python",
   "nbconvert_exporter": "python",
   "pygments_lexer": "ipython3",
   "version": "3.10.7"
  }
 },
 "nbformat": 4,
 "nbformat_minor": 2
}
